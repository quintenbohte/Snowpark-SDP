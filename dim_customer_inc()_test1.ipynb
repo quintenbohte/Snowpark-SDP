{
 "cells": [
  {
   "cell_type": "code",
   "execution_count": 1,
   "metadata": {},
   "outputs": [],
   "source": [
    "# Import login values from config\n",
    "from configparser import *"
   ]
  },
  {
   "cell_type": "code",
   "execution_count": 2,
   "metadata": {},
   "outputs": [],
   "source": [
    "# Import packages needed\n",
    "from snowflake.snowpark import Session\n",
    "from snowflake.snowpark.functions import *\n",
    "from snowflake.snowpark.types import *\n",
    "from snowflake.snowpark import Window\n",
    "import pandas as pd\n",
    "from urllib import request\n",
    "from bs4 import BeautifulSoup\n",
    "from urllib.request import urlopen\n",
    "import re"
   ]
  },
  {
   "cell_type": "code",
   "execution_count": 3,
   "metadata": {},
   "outputs": [],
   "source": [
    "import sys, json\n",
    "with open(\"connection_parameters_prod.json\") as jsonfile:\n",
    "    credentials_dict = json.load(jsonfile)"
   ]
  },
  {
   "cell_type": "code",
   "execution_count": 4,
   "metadata": {},
   "outputs": [],
   "source": [
    "def snowpark_session_create():\n",
    "    session = Session.builder.configs(credentials_dict).create()\n",
    "    return session"
   ]
  },
  {
   "cell_type": "code",
   "execution_count": 5,
   "metadata": {},
   "outputs": [],
   "source": [
    "demo_session = snowpark_session_create()"
   ]
  },
  {
   "cell_type": "code",
   "execution_count": 7,
   "metadata": {},
   "outputs": [],
   "source": [
    "demo_session.use_database(\"SNF_MDRAZ\")\n",
    "demo_session.use_schema(\"bronze\")"
   ]
  },
  {
   "cell_type": "code",
   "execution_count": 18,
   "metadata": {},
   "outputs": [],
   "source": [
    "kna = demo_session.sql(\"select * from snf_mdraz.staging.kna1\")"
   ]
  },
  {
   "cell_type": "code",
   "execution_count": 23,
   "metadata": {},
   "outputs": [],
   "source": [
    "df = kna[['INDEX','KUNNR','GENDE','NAME1','NAME2','STRAS','ORT01','PSTLZ','LAND1','LAND2','RSCON','TELF1','REGIO','BIRTH','LATI','LONG']]"
   ]
  },
  {
   "cell_type": "code",
   "execution_count": 24,
   "metadata": {},
   "outputs": [
    {
     "name": "stdout",
     "output_type": "stream",
     "text": [
      "--------------------------------------------------------------------------------------------------------------------------------------------------------------------------------------------------------------------------------------------------\n",
      "|\"INDEX\"    |\"KUNNR\"   |\"GENDE\"  |\"NAME1\"   |\"NAME2\"     |\"STRAS\"                  |\"ORT01\"            |\"PSTLZ\"   |\"LAND1\"  |\"LAND2\"         |\"RSCON\"                             |\"TELF1\"        |\"REGIO\"  |\"BIRTH\"     |\"LATI\"     |\"LONG\"     |\n",
      "--------------------------------------------------------------------------------------------------------------------------------------------------------------------------------------------------------------------------------------------------\n",
      "|1172351.0  |C1272351  |Female   |Emina     |Schulting   |Via Enrico Fermi 86      |Rubiana            |10040     |IT       |Italy           |EminaSchulting@fleckens.hu          |0345 1348434   |39.0     |1969/01/24  |44.765174  |7.875138   |\n",
      "|1172353.0  |C1272353  |NULL     |Casio     |Otero       |Ctra. de Siles 33        |O Incio            |27346     |ES       |NULL            |CasioOteroZarate@teleworm.us        |761 372 690    |34.0     |1982/02/18  |42.636375  |-7.415328  |\n",
      "|1172356.0  |NULL      |Female   |Lidu?ina  |Garrido     |Pl. Virgen Blanca 73     |Gironella          |8680      |ES       |Spain           |LiduvinaGarridoSarabia@teleworm.us  |783 773 385    |34.0     |1985/01/03  |41.984137  |1.805213   |\n",
      "|1172357.0  |C1272357  |Female   |Fiona     |Baeza       |Caño 72                  |Muíños             |32880     |ES       |Spain           |FionaBaezaDavila@dayrep.com         |679 176 339    |34.0     |1954/12/19  |42.044766  |-7.941031  |\n",
      "|1172358.0  |C1272358  |Other    |William   |Jordan      |88 Hampton Court Rd      |SPARKFORD          |BA22 0ZQ  |GB       |United Kingdom  |WilliamJordan@armyspy.com           |078 2981 1163  |44.0     |NULL        |50.93764   |-2.609986  |\n",
      "|1172361.0  |C1272361  |Female   |Alissa    |Yáñez       |El Roqueo 13             |Boqueixón          |15881     |ES       |NULL            |AlissaYanezGuevara@armyspy.com      |720 072 986    |34.0     |1991/05/16  |42.960205  |-8.604261  |\n",
      "|1172362.0  |C1272362  |Male     |Gay       |Collazo     |C/ Henan Cortes 88       |Cubas de la Sagra  |28978     |ES       |Spain           |GayCollazoSaenz@einrot.com          |755 738 289    |34.0     |2001/12/09  |40.087911  |-3.746706  |\n",
      "|1172365.0  |C1272365  |Female   |Julia     |Nilsson     |Skolspåret 72            |KLINTEHAMN         |620 20    |SE       |Sweden          |JuliaNilsson@rhyta.com              |0498-5895346   |46.0     |1991/04/02  |57.459221  |NULL       |\n",
      "|1172368.0  |C1272368  |Male     |Adriano   |Zetticci    |Via Matteo Schilizzi 36  |Ronco Scrivia      |16019     |IT       |Italy           |AdrianoZetticci@armyspy.com         |0373 1343143   |39.0     |1990/03/08  |44.501394  |8.861017   |\n",
      "|1172371.0  |C1272371  |Male     |Josh      |Whitehouse  |NULL                     |THORNHILL          |FK8 7BT   |GB       |United Kingdom  |JoshWhitehouse@dayrep.com           |078 8994 8520  |44.0     |1988/07/26  |55.86685   |-3.744735  |\n",
      "--------------------------------------------------------------------------------------------------------------------------------------------------------------------------------------------------------------------------------------------------\n",
      "\n"
     ]
    }
   ],
   "source": [
    "df.show()"
   ]
  },
  {
   "cell_type": "code",
   "execution_count": 37,
   "metadata": {},
   "outputs": [],
   "source": [
    "df = kna.select(\n",
    "    \"index\",\"kunnr\",\"GENDE\",\"NAME1\",\"NAME2\",\"STRAS\",\"ORT01\",\"PSTLZ\",\"LAND1\",\"LAND2\",\"RSCON\",\"TELF1\",\"REGIO\",\"BIRTH\",\"LATI\",\"LONG\"\n",
    "    )"
   ]
  },
  {
   "cell_type": "code",
   "execution_count": 38,
   "metadata": {},
   "outputs": [
    {
     "name": "stdout",
     "output_type": "stream",
     "text": [
      "--------------------------------------------------------------------------------------------------------------------------------------------------------------------------------------------------------------------------------------------------\n",
      "|\"INDEX\"    |\"KUNNR\"   |\"GENDE\"  |\"NAME1\"   |\"NAME2\"     |\"STRAS\"                  |\"ORT01\"            |\"PSTLZ\"   |\"LAND1\"  |\"LAND2\"         |\"RSCON\"                             |\"TELF1\"        |\"REGIO\"  |\"BIRTH\"     |\"LATI\"     |\"LONG\"     |\n",
      "--------------------------------------------------------------------------------------------------------------------------------------------------------------------------------------------------------------------------------------------------\n",
      "|1172351.0  |C1272351  |Female   |Emina     |Schulting   |Via Enrico Fermi 86      |Rubiana            |10040     |IT       |Italy           |EminaSchulting@fleckens.hu          |0345 1348434   |39.0     |1969/01/24  |44.765174  |7.875138   |\n",
      "|1172353.0  |C1272353  |NULL     |Casio     |Otero       |Ctra. de Siles 33        |O Incio            |27346     |ES       |NULL            |CasioOteroZarate@teleworm.us        |761 372 690    |34.0     |1982/02/18  |42.636375  |-7.415328  |\n",
      "|1172356.0  |NULL      |Female   |Lidu?ina  |Garrido     |Pl. Virgen Blanca 73     |Gironella          |8680      |ES       |Spain           |LiduvinaGarridoSarabia@teleworm.us  |783 773 385    |34.0     |1985/01/03  |41.984137  |1.805213   |\n",
      "|1172357.0  |C1272357  |Female   |Fiona     |Baeza       |Caño 72                  |Muíños             |32880     |ES       |Spain           |FionaBaezaDavila@dayrep.com         |679 176 339    |34.0     |1954/12/19  |42.044766  |-7.941031  |\n",
      "|1172358.0  |C1272358  |Other    |William   |Jordan      |88 Hampton Court Rd      |SPARKFORD          |BA22 0ZQ  |GB       |United Kingdom  |WilliamJordan@armyspy.com           |078 2981 1163  |44.0     |NULL        |50.93764   |-2.609986  |\n",
      "|1172361.0  |C1272361  |Female   |Alissa    |Yáñez       |El Roqueo 13             |Boqueixón          |15881     |ES       |NULL            |AlissaYanezGuevara@armyspy.com      |720 072 986    |34.0     |1991/05/16  |42.960205  |-8.604261  |\n",
      "|1172362.0  |C1272362  |Male     |Gay       |Collazo     |C/ Henan Cortes 88       |Cubas de la Sagra  |28978     |ES       |Spain           |GayCollazoSaenz@einrot.com          |755 738 289    |34.0     |2001/12/09  |40.087911  |-3.746706  |\n",
      "|1172365.0  |C1272365  |Female   |Julia     |Nilsson     |Skolspåret 72            |KLINTEHAMN         |620 20    |SE       |Sweden          |JuliaNilsson@rhyta.com              |0498-5895346   |46.0     |1991/04/02  |57.459221  |NULL       |\n",
      "|1172368.0  |C1272368  |Male     |Adriano   |Zetticci    |Via Matteo Schilizzi 36  |Ronco Scrivia      |16019     |IT       |Italy           |AdrianoZetticci@armyspy.com         |0373 1343143   |39.0     |1990/03/08  |44.501394  |8.861017   |\n",
      "|1172371.0  |C1272371  |Male     |Josh      |Whitehouse  |NULL                     |THORNHILL          |FK8 7BT   |GB       |United Kingdom  |JoshWhitehouse@dayrep.com           |078 8994 8520  |44.0     |1988/07/26  |55.86685   |-3.744735  |\n",
      "--------------------------------------------------------------------------------------------------------------------------------------------------------------------------------------------------------------------------------------------------\n",
      "\n"
     ]
    }
   ],
   "source": [
    "df.show()"
   ]
  },
  {
   "cell_type": "code",
   "execution_count": 51,
   "metadata": {},
   "outputs": [],
   "source": [
    "df = df.fillna({\"index\":-99,\"KUNNR\":\"NA\"})"
   ]
  },
  {
   "cell_type": "code",
   "execution_count": null,
   "metadata": {},
   "outputs": [],
   "source": [
    "df['inde']"
   ]
  },
  {
   "cell_type": "code",
   "execution_count": 53,
   "metadata": {},
   "outputs": [
    {
     "name": "stdout",
     "output_type": "stream",
     "text": [
      "[('INDEX', 'double'), ('KUNNR', 'string(16777216)'), ('GENDE', 'string(16777216)'), ('NAME1', 'string(16777216)'), ('NAME2', 'string(16777216)'), ('STRAS', 'string(16777216)'), ('ORT01', 'string(16777216)'), ('PSTLZ', 'string(16777216)'), ('LAND1', 'string(16777216)'), ('LAND2', 'string(16777216)'), ('RSCON', 'string(16777216)'), ('TELF1', 'string(16777216)'), ('REGIO', 'double'), ('BIRTH', 'string(16777216)'), ('LATI', 'double'), ('LONG', 'double')]\n"
     ]
    }
   ],
   "source": [
    "print(df.dtypes)"
   ]
  },
  {
   "cell_type": "code",
   "execution_count": null,
   "metadata": {},
   "outputs": [],
   "source": [
    "#row by row insert, very slow\n",
    "session.sql(\"BEGIN TRANSACTION\")\n",
    "try:\n",
    "        for row in df_source.iterrows():\n",
    "                insert_sql = f\"\"\"\n",
    "                    insert into snf_mdraz.bronze.kna1 (INDEX,KUNNR,GENDE,NAME1,NAME2,STRAS,ORT01,PSTLZ,LAND1,LAND2,RSCON,TELF1,REGIO,BIRTH,LATI,LONG,LASTMODIFIED) \n",
    "                    VALUES({row[0]},\n",
    "                            '{row['KUNNR']}',\n",
    "                            '{row['GENDE']}',\n",
    "                            '{row['NAME1']}',\n",
    "                            '{row['NAME2']}',\n",
    "                            '{row['STRAS']}',\n",
    "                            '{row['ORT01']}',\n",
    "                            '{row['PSTLZ']}',\n",
    "                            '{row['LAND1']}',\n",
    "                            '{row['LAND2']}',\n",
    "                            '{row['RSCON']}',\n",
    "                            '{row['TELF1']}',\n",
    "                            '{row['REGIO']}',\n",
    "                            '{row['BIRTH']}',\n",
    "                            '{row['LATI']}',\n",
    "                            '{row['LONG']}',\n",
    "                            '{row['LASTMODIFIED']}')\n",
    "                    \"\"\"\n",
    "                session.sql(insert_sql).collect()\n",
    "        session.sql(\"Commit\")\n",
    "except Exception as e:\n",
    "        session.sql(\"Rollback\")\n",
    "        print(f\"Error encountered: {e}. All inserts have been rolled back.\")\n",
    "    #print(insert_sql)"
   ]
  }
 ],
 "metadata": {
  "kernelspec": {
   "display_name": "Python 3",
   "language": "python",
   "name": "python3"
  },
  "language_info": {
   "codemirror_mode": {
    "name": "ipython",
    "version": 3
   },
   "file_extension": ".py",
   "mimetype": "text/x-python",
   "name": "python",
   "nbconvert_exporter": "python",
   "pygments_lexer": "ipython3",
   "version": "3.8.10"
  },
  "orig_nbformat": 4
 },
 "nbformat": 4,
 "nbformat_minor": 2
}
